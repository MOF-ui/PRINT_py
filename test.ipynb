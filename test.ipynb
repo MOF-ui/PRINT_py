{
 "cells": [
  {
   "cell_type": "code",
   "execution_count": 1,
   "metadata": {},
   "outputs": [],
   "source": [
    "# import sys\n",
    "# from PyQt5.QtWidgets import (   QApplication, \n",
    "#                                 QDialog,  \n",
    "#                                 QMainWindow)\n",
    "\n",
    "from libs.PRINT_data_internal import *\n",
    "from libs.PRINT_win_strdDialog import pwrUp\n",
    "from ui.UI_PwrUp import Ui_Dialog"
   ]
  },
  {
   "cell_type": "code",
   "execution_count": 2,
   "metadata": {},
   "outputs": [
    {
     "name": "stdout",
     "output_type": "stream",
     "text": [
      "1\n"
     ]
    }
   ],
   "source": [
    "pwrUp(ROBO_tcpip,Ui_Dialog)"
   ]
  },
  {
   "cell_type": "code",
   "execution_count": 3,
   "metadata": {},
   "outputs": [],
   "source": [
    "def test(tcpip,pwrUp_GUI):\n",
    "    class PwrUp(QDialog, pwrUp_GUI):\n",
    "        def __init__(self,parent=None):\n",
    "            super().__init__(parent)\n",
    "            self.setupUi(self)\n",
    "            self.label.setWordWrap(True)\n",
    "            self.label.setText(\"STARTING PRINT APP...\\n\\n\"\n",
    "                                + \"You're about to establish a TCP connection with the robot at \" + str(tcpip.IP) + \".\\n\"\n",
    "                                + \"This can take up to \" + str(tcpip.C_TOUT) + \"s. You may begin.\\n\\n\")\n",
    "\n",
    "\n",
    "    if __name__ == \"__main__\":\n",
    "        app = 0                             # leave that here so app doesnt include the remnant of a previous QApplication instance\n",
    "        app = QApplication(sys.argv)\n",
    "        win = PwrUp()\n",
    "        win.show()\n",
    "        app.exec()\n",
    "        print(win.result())\n",
    "        # sys.exit(app.exec())\n",
    "    else:\n",
    "        print(-1)"
   ]
  },
  {
   "cell_type": "code",
   "execution_count": 4,
   "metadata": {},
   "outputs": [
    {
     "ename": "NameError",
     "evalue": "name 'QDialog' is not defined",
     "output_type": "error",
     "traceback": [
      "\u001b[1;31m---------------------------------------------------------------------------\u001b[0m",
      "\u001b[1;31mNameError\u001b[0m                                 Traceback (most recent call last)",
      "\u001b[1;32mc:\\Users\\Max\\Desktop\\MultiCarb3D\\python\\PRINT_py\\App\\test.ipynb Cell 4\u001b[0m in \u001b[0;36m<cell line: 1>\u001b[1;34m()\u001b[0m\n\u001b[1;32m----> <a href='vscode-notebook-cell:/c%3A/Users/Max/Desktop/MultiCarb3D/python/PRINT_py/App/test.ipynb#W3sZmlsZQ%3D%3D?line=0'>1</a>\u001b[0m test(ROBO_tcpip,Ui_Dialog)\n",
      "\u001b[1;32mc:\\Users\\Max\\Desktop\\MultiCarb3D\\python\\PRINT_py\\App\\test.ipynb Cell 4\u001b[0m in \u001b[0;36mtest\u001b[1;34m(tcpip, pwrUp_GUI)\u001b[0m\n\u001b[0;32m      <a href='vscode-notebook-cell:/c%3A/Users/Max/Desktop/MultiCarb3D/python/PRINT_py/App/test.ipynb#W3sZmlsZQ%3D%3D?line=0'>1</a>\u001b[0m \u001b[39mdef\u001b[39;00m \u001b[39mtest\u001b[39m(tcpip,pwrUp_GUI):\n\u001b[1;32m----> <a href='vscode-notebook-cell:/c%3A/Users/Max/Desktop/MultiCarb3D/python/PRINT_py/App/test.ipynb#W3sZmlsZQ%3D%3D?line=1'>2</a>\u001b[0m     \u001b[39mclass\u001b[39;00m \u001b[39mPwrUp\u001b[39;00m(QDialog, pwrUp_GUI):\n\u001b[0;32m      <a href='vscode-notebook-cell:/c%3A/Users/Max/Desktop/MultiCarb3D/python/PRINT_py/App/test.ipynb#W3sZmlsZQ%3D%3D?line=2'>3</a>\u001b[0m         \u001b[39mdef\u001b[39;00m \u001b[39m__init__\u001b[39m(\u001b[39mself\u001b[39m,parent\u001b[39m=\u001b[39m\u001b[39mNone\u001b[39;00m):\n\u001b[0;32m      <a href='vscode-notebook-cell:/c%3A/Users/Max/Desktop/MultiCarb3D/python/PRINT_py/App/test.ipynb#W3sZmlsZQ%3D%3D?line=3'>4</a>\u001b[0m             \u001b[39msuper\u001b[39m()\u001b[39m.\u001b[39m\u001b[39m__init__\u001b[39m(parent)\n",
      "\u001b[1;31mNameError\u001b[0m: name 'QDialog' is not defined"
     ]
    }
   ],
   "source": [
    "test(ROBO_tcpip,Ui_Dialog)"
   ]
  },
  {
   "cell_type": "code",
   "execution_count": 1,
   "metadata": {},
   "outputs": [
    {
     "name": "stdout",
     "output_type": "stream",
     "text": [
      "0.0\n"
     ]
    }
   ],
   "source": [
    "import struct\n",
    "from libs.PRINT_data_internal import *\n",
    "entry = QEntry()\n",
    "tcpDummy = TCPIP()\n",
    "\n",
    "message = struct.pack('>iccffffffffffffffffiiiiiciiiiiiiiiiiiiiiii',\n",
    "                            entry.ID,\n",
    "                            bytes(entry.MT,\"utf-8\"),\n",
    "                            bytes(entry.PT,\"utf-8\"),\n",
    "                            entry.COOR_1.X,\n",
    "                            entry.COOR_1.Y,\n",
    "                            entry.COOR_1.Z,\n",
    "                            entry.COOR_1.X_ori,\n",
    "                            entry.COOR_1.Y_ori,\n",
    "                            entry.COOR_1.Z_ori,\n",
    "                            entry.COOR_1.Q,\n",
    "                            entry.COOR_1.EXT,\n",
    "                            entry.COOR_2.X,\n",
    "                            entry.COOR_2.Y,\n",
    "                            entry.COOR_2.Z,\n",
    "                            entry.COOR_2.X_ori,\n",
    "                            entry.COOR_2.Y_ori,\n",
    "                            entry.COOR_2.Z_ori,\n",
    "                            entry.COOR_2.Q,\n",
    "                            entry.COOR_2.EXT,\n",
    "                            entry.SV.ACR,\n",
    "                            entry.SV.DCR,\n",
    "                            entry.SV.TS,\n",
    "                            entry.SV.OS,\n",
    "                            entry.SBT,\n",
    "                            bytes(entry.SC,\"utf-8\"),\n",
    "                            entry.Z,\n",
    "                            entry.TOOL.M1_ID,\n",
    "                            entry.TOOL.M1_STEPS,\n",
    "                            entry.TOOL.M2_ID,\n",
    "                            entry.TOOL.M2_STEPS,\n",
    "                            entry.TOOL.M3_ID,\n",
    "                            entry.TOOL.M3_STEPS,\n",
    "                            entry.TOOL.PNMTC_CLAMP_ID,\n",
    "                            entry.TOOL.PNMTC_CLAMP_YN,\n",
    "                            entry.TOOL.KNIFE_ID,\n",
    "                            entry.TOOL.KNIFE_YN,\n",
    "                            entry.TOOL.M4_ID,\n",
    "                            entry.TOOL.M4_STEPS,\n",
    "                            entry.TOOL.PNMTC_FIBER_ID,\n",
    "                            entry.TOOL.PNMTC_FIBER_YN,\n",
    "                            entry.TOOL.TIME_ID,\n",
    "                            entry.TOOL.TIME_TIME)\n",
    "if(len(message) != 159):\n",
    "    print(1)\n",
    "\n",
    "tcpDummy.telemetry.TOOL_SPEED = 0.0\n",
    "tcpDummy.telemetry.TOOL_SPEED = struct.unpack('<f',message[16:20])[0]\n",
    "print(tcpDummy.telemetry.TOOL_SPEED)"
   ]
  },
  {
   "cell_type": "code",
   "execution_count": null,
   "metadata": {},
   "outputs": [],
   "source": []
  }
 ],
 "metadata": {
  "kernelspec": {
   "display_name": "Python 3",
   "language": "python",
   "name": "python3"
  },
  "language_info": {
   "codemirror_mode": {
    "name": "ipython",
    "version": 3
   },
   "file_extension": ".py",
   "mimetype": "text/x-python",
   "name": "python",
   "nbconvert_exporter": "python",
   "pygments_lexer": "ipython3",
   "version": "3.10.4"
  },
  "orig_nbformat": 4
 },
 "nbformat": 4,
 "nbformat_minor": 2
}
